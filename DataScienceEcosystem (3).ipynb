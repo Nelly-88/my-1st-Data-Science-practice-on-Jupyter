{
 "cells": [
  {
   "cell_type": "markdown",
   "id": "26f1e9c3-dc3b-402c-b29e-2fcbed7f2adf",
   "metadata": {},
   "source": [
    "# Data Science Tools and Ecosystem"
   ]
  },
  {
   "cell_type": "markdown",
   "id": "35c55b7c-18ca-48a5-84dd-7bf9839a54fb",
   "metadata": {},
   "source": [
    "####"
   ]
  },
  {
   "cell_type": "markdown",
   "id": "550a4098-ed35-43f8-b7bb-15df68795a91",
   "metadata": {},
   "source": [
    "#### In this notebook, Data Science Tools and Ecosystem are summarized."
   ]
  },
  {
   "cell_type": "markdown",
   "id": "4150d874-c07d-49f9-a19c-b6b2896f17b5",
   "metadata": {},
   "source": [
    "####"
   ]
  },
  {
   "cell_type": "markdown",
   "id": "4440bf04-34a6-407e-a13c-8e771b63c9b8",
   "metadata": {},
   "source": [
    "**Objectives**\n",
    "\n",
    "* Create a Jupyter Notebook\n",
    "* \r\n",
    "Insert code and markdown cel\n",
    "* List of Libraries\n",
    "* List of Data science tools\n",
    "* Performed simple arithmetics\n",
    "  lstHub"
   ]
  },
  {
   "cell_type": "markdown",
   "id": "36642cde-04ff-42fd-8d27-7b4d59ace910",
   "metadata": {},
   "source": [
    "### Some of the popular languages that Data Scientists use are:\n",
    "\n",
    "* Python\n",
    "* R\n",
    "* Julia"
   ]
  },
  {
   "cell_type": "markdown",
   "id": "e45f8418-dddb-4ee7-9b38-7b37b701a0ba",
   "metadata": {},
   "source": [
    "####   "
   ]
  },
  {
   "cell_type": "markdown",
   "id": "031dc78e-7e73-406c-9af8-fbf0bfad531a",
   "metadata": {},
   "source": [
    "### Some of the commonly used libraries used by Data Scientists include:\n",
    "\n",
    "1. Pandas \n",
    "2. Numpy\n",
    "3. Scikit Learn\n",
    "4. Matplotlib\n",
    "5. Seaborn"
   ]
  },
  {
   "cell_type": "markdown",
   "id": "11c34e20-0b3e-4381-989e-1b6c687848e3",
   "metadata": {},
   "source": [
    "## "
   ]
  },
  {
   "cell_type": "markdown",
   "id": "cbca9f57-30ce-4f60-b500-b351d54b019d",
   "metadata": {},
   "source": [
    "|S/N | Data Science Tools |\n",
    "|----|--------------------|\n",
    "|1| Jupyter Lab|\n",
    "|2| RStudio|\n",
    "|3| Anaconda|\n",
    "|4| Jupyter Notebook|\n"
   ]
  },
  {
   "cell_type": "markdown",
   "id": "63ef8901-ed7f-40d3-9517-23a370c23e1d",
   "metadata": {},
   "source": [
    "#"
   ]
  },
  {
   "cell_type": "markdown",
   "id": "75da4b5c-8059-4013-85df-9db3d2d38f24",
   "metadata": {},
   "source": [
    "### Below are a few examples of evaluating arithmetic expressions in Python"
   ]
  },
  {
   "cell_type": "markdown",
   "id": "94edd26b-7ab8-468e-8692-851e9a5e542b",
   "metadata": {},
   "source": [
    "######"
   ]
  },
  {
   "cell_type": "code",
   "execution_count": 28,
   "id": "e306d197-8d76-4116-abff-0712ab430b29",
   "metadata": {},
   "outputs": [
    {
     "data": {
      "text/plain": [
       "17"
      ]
     },
     "execution_count": 28,
     "metadata": {},
     "output_type": "execute_result"
    }
   ],
   "source": [
    "# This a simple arithmetic expression to mutiply then add integers\n",
    "\n",
    "(3*4)+5"
   ]
  },
  {
   "cell_type": "markdown",
   "id": "4f8212bd-38b1-4646-81ed-ccb7c628326e",
   "metadata": {},
   "source": [
    "##"
   ]
  },
  {
   "cell_type": "code",
   "execution_count": 30,
   "id": "58edfc3e-fb6d-4803-8621-177243e6a5c3",
   "metadata": {},
   "outputs": [
    {
     "data": {
      "text/plain": [
       "3.3333333333333335"
      ]
     },
     "execution_count": 30,
     "metadata": {},
     "output_type": "execute_result"
    }
   ],
   "source": [
    "# This will convert 200 minutes to hours by diving by 60\n",
    "\n",
    "200 / 60 "
   ]
  },
  {
   "cell_type": "markdown",
   "id": "26b72106-b3a5-49db-842a-708824fd223b",
   "metadata": {},
   "source": [
    "####"
   ]
  },
  {
   "cell_type": "markdown",
   "id": "3335afcf-ac1d-445d-a2b6-264ac7f7a85d",
   "metadata": {},
   "source": [
    "# Author\n",
    "\n",
    "Nkwuo Nelson"
   ]
  },
  {
   "cell_type": "markdown",
   "id": "a8b20b17-f8ec-4062-9816-9ccff1a5f654",
   "metadata": {},
   "source": [
    "## "
   ]
  }
 ],
 "metadata": {
  "kernelspec": {
   "display_name": "Python 3 (ipykernel)",
   "language": "python",
   "name": "python3"
  },
  "language_info": {
   "codemirror_mode": {
    "name": "ipython",
    "version": 3
   },
   "file_extension": ".py",
   "mimetype": "text/x-python",
   "name": "python",
   "nbconvert_exporter": "python",
   "pygments_lexer": "ipython3",
   "version": "3.12.4"
  }
 },
 "nbformat": 4,
 "nbformat_minor": 5
}
